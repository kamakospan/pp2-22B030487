{
 "cells": [
  {
   "cell_type": "code",
   "execution_count": null,
   "id": "f49db87b",
   "metadata": {},
   "outputs": [],
   "source": [
    "#Write a Python program that matches a string that has an 'a' followed by zero or more 'b''s.\n",
    "\n",
    "\n",
    "import re\n",
    "\n",
    "with open(\"row.txt\",\"r\", encoding='utf-8') as rowfile:\n",
    "    for str in rowfile:\n",
    "        result = re.findall(r\"a[b]{0,}\", str)\n",
    "        if(len(result)!=0):\n",
    "            for i in result:\n",
    "                print(i)\n",
    "\n",
    "\n",
    "\"\"\"\n",
    "s = str(input())\n",
    "result = re.search(r'[ab]\\b', s) \n",
    "print(result)\n",
    "\n",
    "Solution\n",
    "def text_match(text):\n",
    "        patterns = 'ab*?'\n",
    "        if re.search(patterns,  text):\n",
    "                return 'Found a match!'\n",
    "        else:\n",
    "                return('Not matched!')\n",
    "print(text_match(\"abbc\"))`\n",
    "\"\"\""
   ]
  },
  {
   "cell_type": "code",
   "execution_count": null,
   "id": "c78fbc5f",
   "metadata": {},
   "outputs": [],
   "source": [
    "#Write a Python program that matches a string that has an 'a' followed by two to three 'b'.\n",
    "\n",
    "\n",
    "import re\n",
    "\n",
    "with open(\"row.txt\",\"r\", encoding='utf-8') as rowfile:\n",
    "    for str in rowfile:\n",
    "        result = re.findall(r\"a[b]{2, 3}\", str)\n",
    "        if(len(result) != 0):\n",
    "            for i in result:\n",
    "                print(i)"
   ]
  },
  {
   "cell_type": "code",
   "execution_count": null,
   "id": "d24a4395",
   "metadata": {},
   "outputs": [],
   "source": [
    "# Write a Python program to find sequences of lowercase letters joined with a underscore.\n",
    "\n",
    "\"\"\"\n",
    "import re\n",
    "\n",
    "s = str(input())\n",
    "result = re.findall(r'[a-z]{1, }[_]{1, }[a-z]{1, }', s)\n",
    "\n",
    "print(result)\n",
    "\"\"\"\n",
    "\n",
    "import re\n",
    "with open(\"row.txt\") as file:\n",
    "    for text in file:\n",
    "        result = re.findall(r\"[a-z]{1,}[_]{1,}[a-z]{1,}\", text)\n",
    "        if(len(result)!=0):\n",
    "            for i in result:\n",
    "                print(i)"
   ]
  },
  {
   "cell_type": "code",
   "execution_count": null,
   "id": "d092a5fe",
   "metadata": {},
   "outputs": [],
   "source": [
    "# Write a Python program to find the sequences of one upper case letter followed by lower case letters.\n",
    "\n",
    "\n",
    "import re\n",
    "with open(\"row.txt\") as file:\n",
    "    for text in file:\n",
    "        result = re.findall(r\"[A-Z]{1,}[a-z]{1,}\", text)\n",
    "        if(len(result)!=0):\n",
    "            for i in result:\n",
    "                print(i)\n",
    "                "
   ]
  },
  {
   "cell_type": "code",
   "execution_count": null,
   "id": "1453f521",
   "metadata": {},
   "outputs": [],
   "source": [
    "#Write a Python program that matches a string that has an 'a' followed by anything, ending in 'b'.\n",
    "\n",
    "\n",
    "import re\n",
    "with open(\"row.txt\") as file:\n",
    "    for text in file:\n",
    "        result = re.findall(r\"a[^ ]{0,}b\", text)\n",
    "        if(len(result)!=0):\n",
    "            for i in result:\n",
    "                print(i)\n",
    "                "
   ]
  },
  {
   "cell_type": "code",
   "execution_count": null,
   "id": "2cbca5ae",
   "metadata": {},
   "outputs": [],
   "source": [
    "# Write a Python program to replace all occurrences of space, comma, or dot with a colon.\n",
    "\n",
    "import re\n",
    "with open(\"row.txt\") as file:\n",
    "    for text in file:\n",
    "        result = re.sub(r\"[, .]\", \":\", text)\n",
    "        if(len(result)!=0):\n",
    "            for i in result:\n",
    "                print(i)"
   ]
  },
  {
   "cell_type": "code",
   "execution_count": null,
   "id": "5201db3c",
   "metadata": {},
   "outputs": [],
   "source": [
    "# Write a python program to convert snake case string to camel case string.\n",
    "\n",
    "import re\n",
    "text = \"something_written_in_a_snake_case\"\n",
    "\n",
    "changed_string = \"\"\n",
    "result = re.split(r\"[_]\",text)\n",
    "for i in result:\n",
    "    changed_string += i.capitalize()\n",
    "print(changed_string)"
   ]
  },
  {
   "cell_type": "code",
   "execution_count": null,
   "id": "99972f8c",
   "metadata": {},
   "outputs": [],
   "source": [
    "# Write a Python program to split a string at uppercase letters.\n",
    "\n",
    "import re\n",
    "\n",
    "with open(\"row.txt\") as file:\n",
    "    for text in file:\n",
    "        result = re.split(r\"[A-Z]\",text)\n",
    "        if(len(result)!=0):\n",
    "            for i in result:\n",
    "                print(i)"
   ]
  },
  {
   "cell_type": "code",
   "execution_count": null,
   "id": "4517898a",
   "metadata": {},
   "outputs": [],
   "source": [
    "# Write a Python program to insert spaces between words starting with capital letters.\n",
    "\n",
    "import re\n",
    "text = \"ThisProgramCreatedSpacesInThisString\"\n",
    "\n",
    "changed_string = re.findall(r\"[A-Z][a-z]*\", text)\n",
    "print(' '.join(changed_string))"
   ]
  },
  {
   "cell_type": "code",
   "execution_count": null,
   "id": "dc2e9b9b",
   "metadata": {},
   "outputs": [],
   "source": [
    "# Write a Python program to convert a given camel case string to snake case.\n",
    "\n",
    "import re\n",
    "text = \"ThisProgramTurnsThisStringIntoSnakeCase\"\n",
    "result = re.findall(r\"[A-Z][a-z]*\", text)\n",
    "snake_case=[]\n",
    "for i in result:\n",
    "    snake_case.append(i.lower())\n",
    "print('_'.join(snake_case))"
   ]
  }
 ],
 "metadata": {
  "kernelspec": {
   "display_name": "Python 3 (ipykernel)",
   "language": "python",
   "name": "python3"
  },
  "language_info": {
   "codemirror_mode": {
    "name": "ipython",
    "version": 3
   },
   "file_extension": ".py",
   "mimetype": "text/x-python",
   "name": "python",
   "nbconvert_exporter": "python",
   "pygments_lexer": "ipython3",
   "version": "3.9.13"
  }
 },
 "nbformat": 4,
 "nbformat_minor": 5
}
