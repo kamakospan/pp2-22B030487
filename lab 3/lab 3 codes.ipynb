{
 "cells": [
  {
   "cell_type": "markdown",
   "id": "84a3dbd1",
   "metadata": {},
   "source": [
    "# Python functions"
   ]
  },
  {
   "cell_type": "markdown",
   "id": "ad372d72",
   "metadata": {},
   "source": [
    "1"
   ]
  },
  {
   "cell_type": "code",
   "execution_count": null,
   "id": "5e3c14ce",
   "metadata": {},
   "outputs": [],
   "source": [
    "\n",
    "def my_function():\n",
    "  print(\"Hello from a function\")"
   ]
  },
  {
   "cell_type": "markdown",
   "id": "63850085",
   "metadata": {},
   "source": [
    "2"
   ]
  },
  {
   "cell_type": "code",
   "execution_count": null,
   "id": "7d836621",
   "metadata": {},
   "outputs": [],
   "source": [
    "def my_function():\n",
    "  print(\"Hello from a function\")\n",
    "\n",
    "my_function()"
   ]
  },
  {
   "cell_type": "markdown",
   "id": "03e8722f",
   "metadata": {},
   "source": [
    "3"
   ]
  },
  {
   "cell_type": "code",
   "execution_count": null,
   "id": "88155cd0",
   "metadata": {},
   "outputs": [],
   "source": [
    "def my_function(fname, lname):\n",
    "  print(fname)"
   ]
  },
  {
   "cell_type": "markdown",
   "id": "ad42be3d",
   "metadata": {},
   "source": [
    "4"
   ]
  },
  {
   "cell_type": "code",
   "execution_count": null,
   "id": "e546bcc4",
   "metadata": {},
   "outputs": [],
   "source": [
    "def my_function(x):\n",
    "    return x + 5\n"
   ]
  },
  {
   "cell_type": "markdown",
   "id": "888ba4b4",
   "metadata": {},
   "source": [
    "5"
   ]
  },
  {
   "cell_type": "code",
   "execution_count": null,
   "id": "f07c40b2",
   "metadata": {},
   "outputs": [],
   "source": [
    "def my_function(*kids):\n",
    "    print(\"The youngest child is \" + kids[2])"
   ]
  },
  {
   "cell_type": "markdown",
   "id": "b234d8c6",
   "metadata": {},
   "source": [
    "6"
   ]
  },
  {
   "cell_type": "code",
   "execution_count": null,
   "id": "34eed708",
   "metadata": {},
   "outputs": [],
   "source": [
    "def my_function(**kid):\n",
    "    print(\"His last name is \" + kid[\"lname\"])"
   ]
  },
  {
   "cell_type": "markdown",
   "id": "0004774a",
   "metadata": {},
   "source": [
    "# Python lambda"
   ]
  },
  {
   "cell_type": "markdown",
   "id": "78ec226e",
   "metadata": {},
   "source": [
    "1"
   ]
  },
  {
   "cell_type": "code",
   "execution_count": null,
   "id": "c48a33a4",
   "metadata": {},
   "outputs": [],
   "source": [
    "x = lambda a : a"
   ]
  },
  {
   "cell_type": "markdown",
   "id": "e0299927",
   "metadata": {},
   "source": [
    "# Python Classes"
   ]
  },
  {
   "cell_type": "markdown",
   "id": "6d3c8ca5",
   "metadata": {},
   "source": [
    "1"
   ]
  },
  {
   "cell_type": "code",
   "execution_count": null,
   "id": "393109b0",
   "metadata": {},
   "outputs": [],
   "source": [
    "class MyClass:\n",
    "    x = 5"
   ]
  },
  {
   "cell_type": "markdown",
   "id": "d9269244",
   "metadata": {},
   "source": [
    "2"
   ]
  },
  {
   "cell_type": "code",
   "execution_count": null,
   "id": "ee8c1d39",
   "metadata": {},
   "outputs": [],
   "source": [
    "class MyClass:\n",
    "    x = 5\n",
    "    p1 = MyClass()"
   ]
  },
  {
   "cell_type": "markdown",
   "id": "b8e9aefc",
   "metadata": {},
   "source": [
    "3"
   ]
  },
  {
   "cell_type": "code",
   "execution_count": null,
   "id": "30659e04",
   "metadata": {},
   "outputs": [],
   "source": [
    "class MyClass:\n",
    "    x = 5\n",
    "\n",
    "p1 = MyClass()\n",
    "print(p1.x)"
   ]
  },
  {
   "cell_type": "markdown",
   "id": "d1cfa81d",
   "metadata": {},
   "source": [
    "4"
   ]
  },
  {
   "cell_type": "code",
   "execution_count": null,
   "id": "bdae6de3",
   "metadata": {},
   "outputs": [],
   "source": [
    "class Person:\n",
    "    def __init__(self, name, age):\n",
    "    self.name = name\n",
    "    self.age = age"
   ]
  },
  {
   "cell_type": "markdown",
   "id": "ef79f9eb",
   "metadata": {},
   "source": [
    "# Python Inheritance"
   ]
  },
  {
   "cell_type": "markdown",
   "id": "25861b41",
   "metadata": {},
   "source": [
    "1"
   ]
  },
  {
   "cell_type": "code",
   "execution_count": null,
   "id": "f4c541de",
   "metadata": {},
   "outputs": [],
   "source": [
    "class Student(Person):"
   ]
  },
  {
   "cell_type": "markdown",
   "id": "d1208ff2",
   "metadata": {},
   "source": [
    "2"
   ]
  },
  {
   "cell_type": "code",
   "execution_count": null,
   "id": "afd868b0",
   "metadata": {},
   "outputs": [],
   "source": [
    "class Person:\n",
    "    def __init__(self, fname):\n",
    "    self.firstname = fname\n",
    "    \n",
    "def printname(self):\n",
    "    print(self.firstname)\n",
    "\n",
    "class Student(Person):  pass\n",
    "\n",
    "x = Student(\"Mike\")\n",
    "x.printname()"
   ]
  }
 ],
 "metadata": {
  "kernelspec": {
   "display_name": "Python 3 (ipykernel)",
   "language": "python",
   "name": "python3"
  },
  "language_info": {
   "codemirror_mode": {
    "name": "ipython",
    "version": 3
   },
   "file_extension": ".py",
   "mimetype": "text/x-python",
   "name": "python",
   "nbconvert_exporter": "python",
   "pygments_lexer": "ipython3",
   "version": "3.9.13"
  }
 },
 "nbformat": 4,
 "nbformat_minor": 5
}
